{
 "cells": [
  {
   "cell_type": "code",
   "execution_count": 3,
   "metadata": {},
   "outputs": [],
   "source": [
    "import numpy as np"
   ]
  },
  {
   "cell_type": "markdown",
   "metadata": {},
   "source": [
    "# L1, L2 100 회 갱신"
   ]
  },
  {
   "cell_type": "code",
   "execution_count": 4,
   "metadata": {},
   "outputs": [],
   "source": [
    "V = {'L1': 0.0, 'L2': 0.0}\n",
    "new_V = V.copy()"
   ]
  },
  {
   "cell_type": "code",
   "execution_count": 5,
   "metadata": {},
   "outputs": [
    {
     "name": "stdout",
     "output_type": "stream",
     "text": [
      "{'L1': 0.0, 'L2': -0.5}\n",
      "{'L1': -0.22499999999999998, 'L2': -0.725}\n",
      "{'L1': -0.42749999999999994, 'L2': -0.9274999999999999}\n",
      "{'L1': -0.6097499999999999, 'L2': -1.10975}\n",
      "{'L1': -0.7737750000000001, 'L2': -1.273775}\n",
      "{'L1': -0.9213975000000002, 'L2': -1.4213975}\n",
      "{'L1': -1.05425775, 'L2': -1.55425775}\n",
      "{'L1': -1.1738319750000001, 'L2': -1.6738319750000001}\n",
      "{'L1': -1.2814487775, 'L2': -1.7814487775}\n",
      "{'L1': -1.3783038997500001, 'L2': -1.8783038997500001}\n",
      "{'L1': -1.4654735097750002, 'L2': -1.965473509775}\n",
      "{'L1': -1.5439261587975002, 'L2': -2.0439261587975004}\n",
      "{'L1': -1.61453354291775, 'L2': -2.11453354291775}\n",
      "{'L1': -1.6780801886259753, 'L2': -2.1780801886259753}\n",
      "{'L1': -1.735272169763378, 'L2': -2.2352721697633777}\n",
      "{'L1': -1.7867449527870403, 'L2': -2.28674495278704}\n",
      "{'L1': -1.833070457508336, 'L2': -2.3330704575083363}\n",
      "{'L1': -1.8747634117575025, 'L2': -2.3747634117575025}\n",
      "{'L1': -1.9122870705817523, 'L2': -2.412287070581752}\n",
      "{'L1': -1.9460583635235769, 'L2': -2.446058363523577}\n",
      "{'L1': -1.9764525271712192, 'L2': -2.476452527171219}\n",
      "{'L1': -2.0038072744540973, 'L2': -2.5038072744540973}\n",
      "{'L1': -2.0284265470086877, 'L2': -2.5284265470086877}\n",
      "{'L1': -2.050583892307819, 'L2': -2.550583892307819}\n",
      "{'L1': -2.070525503077037, 'L2': -2.570525503077037}\n",
      "{'L1': -2.088472952769333, 'L2': -2.588472952769333}\n",
      "{'L1': -2.1046256574923996, 'L2': -2.6046256574923996}\n",
      "{'L1': -2.1191630917431596, 'L2': -2.6191630917431596}\n",
      "{'L1': -2.132246782568844, 'L2': -2.632246782568844}\n",
      "{'L1': -2.1440221043119596, 'L2': -2.6440221043119596}\n",
      "{'L1': -2.1546198938807635, 'L2': -2.6546198938807635}\n",
      "{'L1': -2.1641579044926873, 'L2': -2.6641579044926873}\n",
      "{'L1': -2.1727421140434187, 'L2': -2.6727421140434187}\n",
      "{'L1': -2.180467902639077, 'L2': -2.680467902639077}\n",
      "{'L1': -2.1874211123751692, 'L2': -2.6874211123751692}\n",
      "{'L1': -2.193679001137652, 'L2': -2.693679001137652}\n",
      "{'L1': -2.199311101023887, 'L2': -2.699311101023887}\n",
      "{'L1': -2.204379990921498, 'L2': -2.704379990921498}\n",
      "{'L1': -2.2089419918293483, 'L2': -2.7089419918293483}\n",
      "{'L1': -2.2130477926464134, 'L2': -2.7130477926464134}\n",
      "{'L1': -2.2167430133817723, 'L2': -2.7167430133817723}\n",
      "{'L1': -2.220068712043595, 'L2': -2.720068712043595}\n",
      "{'L1': -2.2230618408392355, 'L2': -2.7230618408392355}\n",
      "{'L1': -2.225755656755312, 'L2': -2.725755656755312}\n",
      "{'L1': -2.2281800910797807, 'L2': -2.7281800910797807}\n",
      "{'L1': -2.2303620819718026, 'L2': -2.7303620819718026}\n",
      "{'L1': -2.2323258737746223, 'L2': -2.7323258737746223}\n",
      "{'L1': -2.23409328639716, 'L2': -2.73409328639716}\n",
      "{'L1': -2.235683957757444, 'L2': -2.735683957757444}\n",
      "{'L1': -2.2371155619816996, 'L2': -2.7371155619816996}\n",
      "{'L1': -2.2384040057835297, 'L2': -2.7384040057835297}\n",
      "{'L1': -2.239563605205177, 'L2': -2.739563605205177}\n",
      "{'L1': -2.2406072446846594, 'L2': -2.7406072446846594}\n",
      "{'L1': -2.2415465202161933, 'L2': -2.7415465202161933}\n",
      "{'L1': -2.242391868194574, 'L2': -2.742391868194574}\n",
      "{'L1': -2.2431526813751166, 'L2': -2.7431526813751166}\n",
      "{'L1': -2.243837413237605, 'L2': -2.743837413237605}\n",
      "{'L1': -2.2444536719138446, 'L2': -2.7444536719138446}\n",
      "{'L1': -2.24500830472246, 'L2': -2.74500830472246}\n",
      "{'L1': -2.245507474250214, 'L2': -2.745507474250214}\n",
      "{'L1': -2.2459567268251925, 'L2': -2.7459567268251925}\n",
      "{'L1': -2.2463610541426733, 'L2': -2.7463610541426733}\n",
      "{'L1': -2.246724948728406, 'L2': -2.746724948728406}\n",
      "{'L1': -2.2470524538555656, 'L2': -2.7470524538555656}\n",
      "{'L1': -2.2473472084700092, 'L2': -2.7473472084700092}\n",
      "{'L1': -2.2476124876230084, 'L2': -2.7476124876230084}\n",
      "{'L1': -2.2478512388607075, 'L2': -2.7478512388607075}\n",
      "{'L1': -2.2480661149746366, 'L2': -2.7480661149746366}\n",
      "{'L1': -2.248259503477173, 'L2': -2.748259503477173}\n",
      "{'L1': -2.2484335531294555, 'L2': -2.7484335531294555}\n",
      "{'L1': -2.24859019781651, 'L2': -2.74859019781651}\n",
      "{'L1': -2.248731178034859, 'L2': -2.748731178034859}\n",
      "{'L1': -2.248858060231373, 'L2': -2.748858060231373}\n",
      "{'L1': -2.248972254208236, 'L2': -2.748972254208236}\n",
      "{'L1': -2.2490750287874124, 'L2': -2.7490750287874124}\n",
      "{'L1': -2.249167525908671, 'L2': -2.749167525908671}\n",
      "{'L1': -2.2492507733178044, 'L2': -2.7492507733178044}\n",
      "{'L1': -2.249325695986024, 'L2': -2.749325695986024}\n",
      "{'L1': -2.249393126387422, 'L2': -2.749393126387422}\n",
      "{'L1': -2.24945381374868, 'L2': -2.74945381374868}\n",
      "{'L1': -2.249508432373812, 'L2': -2.749508432373812}\n",
      "{'L1': -2.2495575891364306, 'L2': -2.7495575891364306}\n",
      "{'L1': -2.2496018302227876, 'L2': -2.7496018302227876}\n",
      "{'L1': -2.2496416472005087, 'L2': -2.7496416472005087}\n",
      "{'L1': -2.249677482480458, 'L2': -2.749677482480458}\n",
      "{'L1': -2.249709734232412, 'L2': -2.749709734232412}\n",
      "{'L1': -2.249738760809171, 'L2': -2.749738760809171}\n",
      "{'L1': -2.249764884728254, 'L2': -2.749764884728254}\n",
      "{'L1': -2.249788396255429, 'L2': -2.749788396255429}\n",
      "{'L1': -2.249809556629886, 'L2': -2.749809556629886}\n",
      "{'L1': -2.2498286009668975, 'L2': -2.7498286009668975}\n",
      "{'L1': -2.249845740870208, 'L2': -2.749845740870208}\n",
      "{'L1': -2.2498611667831874, 'L2': -2.7498611667831874}\n",
      "{'L1': -2.249875050104869, 'L2': -2.749875050104869}\n",
      "{'L1': -2.2498875450943823, 'L2': -2.7498875450943823}\n",
      "{'L1': -2.249898790584944, 'L2': -2.749898790584944}\n",
      "{'L1': -2.24990891152645, 'L2': -2.74990891152645}\n",
      "{'L1': -2.249918020373805, 'L2': -2.749918020373805}\n",
      "{'L1': -2.249926218336425, 'L2': -2.749926218336425}\n",
      "{'L1': -2.2499335965027827, 'L2': -2.7499335965027827}\n"
     ]
    }
   ],
   "source": [
    "for _ in range(100) :\n",
    "    new_V['L1'] = 0.5 * (-1 + 0.9 * V['L1']) + 0.5 * (1 + 0.9 * V['L2'])\n",
    "    new_V['L2'] = 0.5 * (0 + 0.9 * V['L1']) + 0.5 * (-1 + 0.9 * V['L2'])\n",
    "    V = new_V.copy()\n",
    "    print(V)"
   ]
  },
  {
   "cell_type": "markdown",
   "metadata": {},
   "source": [
    "# L1, L2  둘 다 변화량이 0.0001 보다 낮을 때 까지 renew"
   ]
  },
  {
   "attachments": {
    "image.png": {
     "image/png": "[encoded data removed]"
    }
   },
   "cell_type": "markdown",
   "metadata": {},
   "source": [
    "* 갱신 방법\n",
    "    * 현재의 가치 함수를 보관하는 V, 갱신된 가치함수를 보관하는 new_V 두개의 dictionary  사용</br></br>\n",
    "\n",
    "![image.png](attachment:image.png)"
   ]
  },
  {
   "cell_type": "code",
   "execution_count": 6,
   "metadata": {},
   "outputs": [],
   "source": [
    "V = {'L1': 0.0, 'L2': 0.0}\n",
    "new_V = V.copy()"
   ]
  },
  {
   "cell_type": "code",
   "execution_count": 7,
   "metadata": {},
   "outputs": [],
   "source": [
    "cnt = 0  # 갱신 횟수 기록"
   ]
  },
  {
   "cell_type": "code",
   "execution_count": 8,
   "metadata": {},
   "outputs": [
    {
     "name": "stdout",
     "output_type": "stream",
     "text": [
      "{'L1': -2.249167525908671, 'L2': -2.749167525908671}\n",
      "갱신 횟수: 76\n"
     ]
    }
   ],
   "source": [
    "while True:\n",
    "    new_V['L1'] = 0.5 * (-1 + 0.9 * V['L1']) + 0.5 * (1 + 0.9 * V['L2'])\n",
    "    new_V['L2'] = 0.5 * (0 + 0.9 * V['L1']) + 0.5 * (-1 + 0.9 * V['L2'])\n",
    "\n",
    "     # 갱신된 양의 최댓값\n",
    "    delta = abs(new_V['L1'] - V['L1'])\n",
    "    delta = max(delta, abs(new_V['L2'] - V['L2']))\n",
    "    V = new_V.copy()\n",
    "\n",
    "    cnt += 1\n",
    "    if delta < 0.0001:  # 임계값 = 0.0001\n",
    "        print(V)\n",
    "        print('갱신 횟수:', cnt)\n",
    "        break"
   ]
  },
  {
   "attachments": {
    "image.png": {
     "image/png": "[encoded data removed]"
    }
   },
   "cell_type": "markdown",
   "metadata": {},
   "source": [
    "* 갱신 방법 \n",
    "    * V 하나만 사용하여 덮어 쓰기\n",
    "\n",
    "![image.png](attachment:image.png)\n"
   ]
  },
  {
   "cell_type": "code",
   "execution_count": 9,
   "metadata": {},
   "outputs": [],
   "source": [
    "V = {'L1': 0.0, 'L2': 0.0}"
   ]
  },
  {
   "cell_type": "code",
   "execution_count": 10,
   "metadata": {},
   "outputs": [],
   "source": [
    "cnt = 0\n"
   ]
  },
  {
   "cell_type": "code",
   "execution_count": 11,
   "metadata": {},
   "outputs": [
    {
     "name": "stdout",
     "output_type": "stream",
     "text": [
      "{'L1': -2.2493782177156936, 'L2': -2.7494201578106514}\n",
      "갱신 횟수: 60\n"
     ]
    }
   ],
   "source": [
    "while True:\n",
    "    t = 0.5 * (-1 + 0.9 * V['L1']) + 0.5 * (1 + 0.9 * V['L2'])\n",
    "    delta = abs(t - V['L1'])\n",
    "    V['L1'] = t\n",
    "\n",
    "    t = 0.5 * (0 + 0.9 * V['L1']) + 0.5 * (-1 + 0.9 * V['L2'])\n",
    "    delta = max(delta, abs(t - V['L2']))\n",
    "    V['L2'] = t\n",
    "\n",
    "    cnt += 1\n",
    "    if delta < 0.0001:\n",
    "        print(V)\n",
    "        print('갱신 횟수:', cnt)\n",
    "        break"
   ]
  },
  {
   "cell_type": "markdown",
   "metadata": {},
   "source": [
    "### 의문점\n",
    "\n",
    "* 갱신횟수 왜 줄었지?\n",
    "* 책에서는 갱신 횟수가 줄었으니 계속 덮어쓰기 사용한다는데 항상 갱신횟수가 감소하는것인가?"
   ]
  }
 ],
 "metadata": {
  "kernelspec": {
   "display_name": "base",
   "language": "python",
   "name": "python3"
  },
  "language_info": {
   "codemirror_mode": {
    "name": "ipython",
    "version": 3
   },
   "file_extension": ".py",
   "mimetype": "text/x-python",
   "name": "python",
   "nbconvert_exporter": "python",
   "pygments_lexer": "ipython3",
   "version": "3.10.13"
  }
 },
 "nbformat": 4,
 "nbformat_minor": 2
}
