{
 "cells": [
  {
   "cell_type": "code",
   "execution_count": 2,
   "id": "4dcc946a",
   "metadata": {},
   "outputs": [
    {
     "ename": "IndentationError",
     "evalue": "expected an indented block after function definition on line 17 (policy_iter.py, line 18)",
     "output_type": "error",
     "traceback": [
      "Traceback \u001b[1;36m(most recent call last)\u001b[0m:\n",
      "\u001b[0m  File \u001b[0;32m~\\anaconda3\\lib\\site-packages\\IPython\\core\\interactiveshell.py:3526\u001b[0m in \u001b[0;35mrun_code\u001b[0m\n    exec(code_obj, self.user_global_ns, self.user_ns)\u001b[0m\n",
      "\u001b[1;36m  Cell \u001b[1;32mIn[2], line 3\u001b[1;36m\n\u001b[1;33m    from policy_iter import greedy_policy\u001b[1;36m\n",
      "\u001b[1;36m  File \u001b[1;32m~\\Desktop\\coding\\rl\\ch4\\policy_iter.py:18\u001b[1;36m\u001b[0m\n\u001b[1;33m    pi = {}\u001b[0m\n\u001b[1;37m    ^\u001b[0m\n\u001b[1;31mIndentationError\u001b[0m\u001b[1;31m:\u001b[0m expected an indented block after function definition on line 17\n"
     ]
    }
   ],
   "source": [
    "from collections import defaultdict\n",
    "from gridworld import GridWorld\n",
    "from policy_iter import greedy_policy"
   ]
  },
  {
   "cell_type": "code",
   "execution_count": null,
   "id": "0c85d7f8",
   "metadata": {},
   "outputs": [],
   "source": []
  }
 ],
 "metadata": {
  "kernelspec": {
   "display_name": "Python 3 (ipykernel)",
   "language": "python",
   "name": "python3"
  },
  "language_info": {
   "codemirror_mode": {
    "name": "ipython",
    "version": 3
   },
   "file_extension": ".py",
   "mimetype": "text/x-python",
   "name": "python",
   "nbconvert_exporter": "python",
   "pygments_lexer": "ipython3",
   "version": "3.10.13"
  }
 },
 "nbformat": 4,
 "nbformat_minor": 5
}
