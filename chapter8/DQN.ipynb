{
 "cells": [
  {
   "cell_type": "code",
   "execution_count": 1,
   "metadata": {},
   "outputs": [],
   "source": [
    "import copy\n",
    "from collections import deque\n",
    "import random\n",
    "import matplotlib.pyplot as plt\n",
    "import numpy as np\n",
    "import gym\n",
    "from dezero import Model\n",
    "from dezero import optimizers\n",
    "import dezero.functions as F\n",
    "import dezero.layers as L"
   ]
  },
  {
   "cell_type": "code",
   "execution_count": 2,
   "metadata": {},
   "outputs": [],
   "source": [
    "class ReplayBuffer:\n",
    "    def __init__(self, buffer_size, batch_size):\n",
    "        self.buffer = deque(maxlen=buffer_size)\n",
    "        self.batch_size = batch_size\n",
    "\n",
    "    def add(self, state, action, reward, next_state, done):\n",
    "        data = (state, action, reward, next_state, done)\n",
    "        self.buffer.append(data)\n",
    "\n",
    "    def __len__(self):\n",
    "        return len(self.buffer)\n",
    "\n",
    "    def get_batch(self):\n",
    "        data = random.sample(self.buffer, self.batch_size)\n",
    "\n",
    "        state = np.stack([x[0] for x in data])\n",
    "        action = np.array([x[1] for x in data])\n",
    "        reward = np.array([x[2] for x in data])\n",
    "        next_state = np.stack([x[3] for x in data])\n",
    "        done = np.array([x[4] for x in data]).astype(np.int32)\n",
    "        return state, action, reward, next_state, done"
   ]
  },
  {
   "cell_type": "code",
   "execution_count": 3,
   "metadata": {},
   "outputs": [],
   "source": [
    "class QNet(Model):  # 신경망 클래스\n",
    "    def __init__(self, action_size):\n",
    "        super().__init__()\n",
    "        self.l1 = L.Linear(128)\n",
    "        self.l2 = L.Linear(128)\n",
    "        self.l3 = L.Linear(action_size)\n",
    "\n",
    "    def forward(self, x):\n",
    "        x = F.relu(self.l1(x))\n",
    "        x = F.relu(self.l2(x))\n",
    "        x = self.l3(x)\n",
    "        return x"
   ]
  },
  {
   "cell_type": "code",
   "execution_count": 4,
   "metadata": {},
   "outputs": [],
   "source": [
    "class DQNAgent:  # 에이전트 클래스\n",
    "    def __init__(self):\n",
    "        self.gamma = 0.98\n",
    "        self.lr = 0.0005\n",
    "        self.epsilon = 0.1\n",
    "        self.buffer_size = 10000  # 경험 재생 버퍼 크기\n",
    "        self.batch_size = 32      # 미니배치 크기\n",
    "        self.action_size = 2\n",
    "\n",
    "        self.replay_buffer = ReplayBuffer(self.buffer_size, self.batch_size)\n",
    "        self.qnet = QNet(self.action_size)         # 원본 신경망\n",
    "        self.qnet_target = QNet(self.action_size)  # 목표 신경망\n",
    "        self.optimizer = optimizers.Adam(self.lr)\n",
    "        self.optimizer.setup(self.qnet)            # 옵티마이저에 qnet 등록\n",
    "\n",
    "    def get_action(self, state):\n",
    "        if np.random.rand() < self.epsilon:\n",
    "            return np.random.choice(self.action_size)\n",
    "        else:\n",
    "            state = state[np.newaxis, :]  # 배치 처리용 차원 추가\n",
    "            qs = self.qnet(state)\n",
    "            return qs.data.argmax()\n",
    "\n",
    "    def update(self, state, action, reward, next_state, done):\n",
    "        # 경험 재생 버퍼에 경험 데이터 추가\n",
    "        self.replay_buffer.add(state, action, reward, next_state, done)\n",
    "        if len(self.replay_buffer) < self.batch_size:\n",
    "            return  # 데이터가 미니배치 크기만큼 쌓이지 않았다면 여기서 끝\n",
    "\n",
    "        # 미니배치 크기 이상이 쌓이면 미니배치 생성\n",
    "        state, action, reward, next_state, done = self.replay_buffer.get_batch()\n",
    "        qs = self.qnet(state)\n",
    "        q = qs[np.arange(self.batch_size), action]\n",
    "\n",
    "        next_qs = self.qnet_target(next_state)\n",
    "        next_q = next_qs.max(axis=1)\n",
    "        next_q.unchain()\n",
    "        target = reward + (1 - done) * self.gamma * next_q\n",
    "\n",
    "        loss = F.mean_squared_error(q, target)\n",
    "\n",
    "        self.qnet.cleargrads()\n",
    "        loss.backward()\n",
    "        self.optimizer.update()\n",
    "\n",
    "    def sync_qnet(self):  # 두 신경망 동기화\n",
    "        self.qnet_target = copy.deepcopy(self.qnet)"
   ]
  },
  {
   "cell_type": "code",
   "execution_count": 6,
   "metadata": {},
   "outputs": [],
   "source": [
    "episodes = 300      # 에피소드 수\n",
    "sync_interval = 20  # 신경망 동기화 주기(20번째 에피소드마다 동기화)\n",
    "env = gym.make('CartPole-v0', render_mode='rgb_array')\n",
    "agent = DQNAgent()\n",
    "reward_history = [] # 에피소드별 보상 기록"
   ]
  },
  {
   "cell_type": "code",
   "execution_count": 7,
   "metadata": {},
   "outputs": [
    {
     "name": "stderr",
     "output_type": "stream",
     "text": [
      "C:\\Users\\ljy25\\anaconda3\\lib\\site-packages\\gym\\utils\\passive_env_checker.py:233: DeprecationWarning: `np.bool8` is a deprecated alias for `np.bool_`.  (Deprecated NumPy 1.24)\n",
      "  if not isinstance(terminated, (bool, np.bool8)):\n"
     ]
    },
    {
     "name": "stdout",
     "output_type": "stream",
     "text": [
      "episode :0, total reward : 11.0\n",
      "episode :10, total reward : 8.0\n",
      "episode :20, total reward : 11.0\n",
      "episode :30, total reward : 10.0\n",
      "episode :40, total reward : 10.0\n",
      "episode :50, total reward : 11.0\n",
      "episode :60, total reward : 9.0\n",
      "episode :70, total reward : 10.0\n",
      "episode :80, total reward : 10.0\n",
      "episode :90, total reward : 10.0\n",
      "episode :100, total reward : 9.0\n",
      "episode :110, total reward : 13.0\n",
      "episode :120, total reward : 10.0\n",
      "episode :130, total reward : 10.0\n",
      "episode :140, total reward : 10.0\n",
      "episode :150, total reward : 25.0\n",
      "episode :160, total reward : 72.0\n",
      "episode :170, total reward : 89.0\n",
      "episode :180, total reward : 78.0\n",
      "episode :190, total reward : 125.0\n",
      "episode :200, total reward : 122.0\n",
      "episode :210, total reward : 135.0\n",
      "episode :220, total reward : 113.0\n",
      "episode :230, total reward : 130.0\n",
      "episode :240, total reward : 175.0\n",
      "episode :250, total reward : 170.0\n",
      "episode :260, total reward : 159.0\n",
      "episode :270, total reward : 109.0\n",
      "episode :280, total reward : 151.0\n",
      "episode :290, total reward : 117.0\n"
     ]
    }
   ],
   "source": [
    "for episode in range(episodes):\n",
    "    state = env.reset()[0]\n",
    "    done = False\n",
    "    total_reward = 0\n",
    "\n",
    "    while not done:\n",
    "        action = agent.get_action(state)\n",
    "        next_state, reward, terminated, truncated, info = env.step(action)\n",
    "        done = terminated | truncated\n",
    "\n",
    "        agent.update(state, action, reward, next_state, done)\n",
    "        state = next_state\n",
    "        total_reward += reward\n",
    "\n",
    "    if episode % sync_interval == 0:\n",
    "        agent.sync_qnet()\n",
    "\n",
    "    reward_history.append(total_reward)\n",
    "    if episode % 10 == 0:\n",
    "        print(\"episode :{}, total reward : {}\".format(episode, total_reward))"
   ]
  },
  {
   "cell_type": "code",
   "execution_count": 8,
   "metadata": {},
   "outputs": [
    {
     "data": {
      "image/png": "[encoded data removed]",
      "text/plain": [
       "<Figure size 640x480 with 1 Axes>"
      ]
     },
     "metadata": {},
     "output_type": "display_data"
    }
   ],
   "source": [
    "# [그림 8-8] 「카트 폴」에서 에피소드별 보상 총합의 추이\n",
    "plt.xlabel('Episode')\n",
    "plt.ylabel('Total Reward')\n",
    "plt.plot(range(len(reward_history)), reward_history)\n",
    "plt.show()"
   ]
  },
  {
   "cell_type": "code",
   "execution_count": 10,
   "metadata": {},
   "outputs": [],
   "source": [
    "# 학습이 끝난 에이전트에 탐욕 행동을 선택하도록 하여 플레이\n",
    "agent.epsilon = 0  # 탐욕 정책(무작위로 행동할 확률 ε을 0로 설정)\n",
    "state = env.reset()[0]\n",
    "done = False\n",
    "total_reward = 0"
   ]
  },
  {
   "cell_type": "markdown",
   "metadata": {},
   "source": [
    "env.render() 에서 pygame install 에러 발생"
   ]
  },
  {
   "cell_type": "code",
   "execution_count": 12,
   "metadata": {},
   "outputs": [
    {
     "name": "stdout",
     "output_type": "stream",
     "text": [
      "Collecting pygame\n",
      "  Downloading pygame-2.5.2-cp310-cp310-win_amd64.whl.metadata (13 kB)\n",
      "Downloading pygame-2.5.2-cp310-cp310-win_amd64.whl (10.8 MB)\n",
      "   ---------------------------------------- 0.0/10.8 MB ? eta -:--:--\n",
      "   ---------------------------------------- 0.1/10.8 MB 3.2 MB/s eta 0:00:04\n",
      "   - -------------------------------------- 0.5/10.8 MB 6.4 MB/s eta 0:00:02\n",
      "   --- ------------------------------------ 1.0/10.8 MB 7.9 MB/s eta 0:00:02\n",
      "   ----- ---------------------------------- 1.5/10.8 MB 8.8 MB/s eta 0:00:02\n",
      "   ------ --------------------------------- 1.8/10.8 MB 8.9 MB/s eta 0:00:02\n",
      "   -------- ------------------------------- 2.3/10.8 MB 9.3 MB/s eta 0:00:01\n",
      "   ---------- ----------------------------- 2.9/10.8 MB 9.6 MB/s eta 0:00:01\n",
      "   ------------ --------------------------- 3.4/10.8 MB 9.9 MB/s eta 0:00:01\n",
      "   -------------- ------------------------- 3.9/10.8 MB 10.1 MB/s eta 0:00:01\n",
      "   ---------------- ----------------------- 4.5/10.8 MB 10.2 MB/s eta 0:00:01\n",
      "   ------------------ --------------------- 5.0/10.8 MB 10.3 MB/s eta 0:00:01\n",
      "   -------------------- ------------------- 5.5/10.8 MB 10.4 MB/s eta 0:00:01\n",
      "   ---------------------- ----------------- 6.1/10.8 MB 10.5 MB/s eta 0:00:01\n",
      "   ------------------------ --------------- 6.6/10.8 MB 10.6 MB/s eta 0:00:01\n",
      "   -------------------------- ------------- 7.1/10.8 MB 10.8 MB/s eta 0:00:01\n",
      "   ---------------------------- ----------- 7.7/10.8 MB 10.9 MB/s eta 0:00:01\n",
      "   ------------------------------ --------- 8.2/10.8 MB 10.9 MB/s eta 0:00:01\n",
      "   -------------------------------- ------- 8.7/10.8 MB 10.9 MB/s eta 0:00:01\n",
      "   --------------------------------- ------ 9.1/10.8 MB 10.7 MB/s eta 0:00:01\n",
      "   ----------------------------------- ---- 9.6/10.8 MB 10.7 MB/s eta 0:00:01\n",
      "   -------------------------------------- - 10.3/10.8 MB 11.3 MB/s eta 0:00:01\n",
      "   ---------------------------------------  10.7/10.8 MB 11.5 MB/s eta 0:00:01\n",
      "   ---------------------------------------- 10.8/10.8 MB 11.1 MB/s eta 0:00:00\n",
      "Installing collected packages: pygame\n",
      "Successfully installed pygame-2.5.2\n"
     ]
    }
   ],
   "source": [
    "!pip install pygame"
   ]
  },
  {
   "cell_type": "code",
   "execution_count": 13,
   "metadata": {},
   "outputs": [
    {
     "name": "stdout",
     "output_type": "stream",
     "text": [
      "Total Reward: 126.0\n"
     ]
    }
   ],
   "source": [
    "while not done:\n",
    "    action = agent.get_action(state)\n",
    "    next_state, reward, terminated, truncated, info = env.step(action)\n",
    "    done = terminated | truncated\n",
    "    state = next_state\n",
    "    total_reward += reward\n",
    "    env.render()\n",
    "print('Total Reward:', total_reward)"
   ]
  },
  {
   "cell_type": "code",
   "execution_count": null,
   "metadata": {},
   "outputs": [],
   "source": []
  }
 ],
 "metadata": {
  "kernelspec": {
   "display_name": "Python 3 (ipykernel)",
   "language": "python",
   "name": "python3"
  },
  "language_info": {
   "codemirror_mode": {
    "name": "ipython",
    "version": 3
   },
   "file_extension": ".py",
   "mimetype": "text/x-python",
   "name": "python",
   "nbconvert_exporter": "python",
   "pygments_lexer": "ipython3",
   "version": "3.10.13"
  }
 },
 "nbformat": 4,
 "nbformat_minor": 2
}
