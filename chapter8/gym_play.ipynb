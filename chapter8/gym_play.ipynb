{
 "cells": [
  {
   "cell_type": "code",
   "execution_count": 9,
   "id": "6bff8a43",
   "metadata": {},
   "outputs": [],
   "source": [
    "import numpy as np\n",
    "import gym"
   ]
  },
  {
   "cell_type": "code",
   "execution_count": 10,
   "id": "6d6f3f55",
   "metadata": {},
   "outputs": [],
   "source": [
    "env = gym.make('CartPole-v0', render_mode='human')\n",
    "state = env.reset()[0]\n",
    "done = False"
   ]
  },
  {
   "cell_type": "code",
   "execution_count": 11,
   "id": "e90c363a",
   "metadata": {},
   "outputs": [],
   "source": [
    "while not done:  # 에피소드가 끝날 때까지 반복\n",
    "    env.render()  # 진행 과정 시각화\n",
    "    action = np.random.choice([0, 1])  # 행동 선택(무작위)\n",
    "    next_state, reward, terminated, truncated, info = env.step(action)\n",
    "    done = terminated | truncated      # 둘 중 하나만 True면 에피소드 종료"
   ]
  },
  {
   "cell_type": "code",
   "execution_count": 12,
   "id": "68436cdb",
   "metadata": {},
   "outputs": [],
   "source": [
    "while not done:  # 에피소드가 끝날 때까지 반복\n",
    "    env.render()  # 진행 과정 시각화\n",
    "    action = np.random.choice([0, 1])  # 행동 선택(무작위)\n",
    "    next_state, reward, terminated, truncated, info = env.step(action)\n",
    "    done = terminated | truncated      # 둘 중 하나만 True면 에피소드 종료"
   ]
  },
  {
   "cell_type": "code",
   "execution_count": null,
   "id": "3543acfa",
   "metadata": {},
   "outputs": [],
   "source": []
  }
 ],
 "metadata": {
  "kernelspec": {
   "display_name": "Python 3 (ipykernel)",
   "language": "python",
   "name": "python3"
  },
  "language_info": {
   "codemirror_mode": {
    "name": "ipython",
    "version": 3
   },
   "file_extension": ".py",
   "mimetype": "text/x-python",
   "name": "python",
   "nbconvert_exporter": "python",
   "pygments_lexer": "ipython3",
   "version": "3.10.13"
  }
 },
 "nbformat": 4,
 "nbformat_minor": 5
}
