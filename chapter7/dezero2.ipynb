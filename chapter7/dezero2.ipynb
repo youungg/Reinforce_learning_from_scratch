{
 "cells": [
  {
   "cell_type": "code",
   "execution_count": 1,
   "id": "ae46bb72",
   "metadata": {},
   "outputs": [],
   "source": [
    "import numpy as np\n",
    "from dezero import Variable"
   ]
  },
  {
   "cell_type": "code",
   "execution_count": 2,
   "id": "4b4b9314",
   "metadata": {},
   "outputs": [],
   "source": [
    "def rosenbrock(x0, x1):\n",
    "    y = 100 * (x1 - x0 ** 2) ** 2 + (x0 - 1) ** 2\n",
    "    return y"
   ]
  },
  {
   "cell_type": "code",
   "execution_count": 3,
   "id": "1f5160e0",
   "metadata": {},
   "outputs": [],
   "source": [
    "x0 = Variable(np.array(0.0))\n",
    "x1 = Variable(np.array(2.0))"
   ]
  },
  {
   "cell_type": "code",
   "execution_count": 4,
   "id": "3306f361",
   "metadata": {},
   "outputs": [],
   "source": [
    "iters = 10000  # 반복 횟수\n",
    "lr = 0.001     # 학습률"
   ]
  },
  {
   "cell_type": "code",
   "execution_count": 5,
   "id": "afcb310e",
   "metadata": {},
   "outputs": [],
   "source": [
    "for i in range(iters):  # 갱신 반복\n",
    "    y = rosenbrock(x0, x1)\n",
    "\n",
    "    # 이전 반복에서 더해진 미분 초기화\n",
    "    x0.cleargrad()\n",
    "    x1.cleargrad()\n",
    "\n",
    "    # 미분(역전파)\n",
    "    y.backward()\n",
    "\n",
    "    # 변수 갱신\n",
    "    x0.data -= lr * x0.grad.data\n",
    "    x1.data -= lr * x1.grad.data\n",
    "    "
   ]
  },
  {
   "cell_type": "code",
   "execution_count": 6,
   "id": "996318f6",
   "metadata": {},
   "outputs": [
    {
     "name": "stdout",
     "output_type": "stream",
     "text": [
      "variable(0.9944984367782456) variable(0.9890050527419593)\n"
     ]
    }
   ],
   "source": [
    "print(x0, x1)"
   ]
  },
  {
   "cell_type": "code",
   "execution_count": null,
   "id": "56a785a0",
   "metadata": {},
   "outputs": [],
   "source": []
  }
 ],
 "metadata": {
  "kernelspec": {
   "display_name": "Python 3 (ipykernel)",
   "language": "python",
   "name": "python3"
  },
  "language_info": {
   "codemirror_mode": {
    "name": "ipython",
    "version": 3
   },
   "file_extension": ".py",
   "mimetype": "text/x-python",
   "name": "python",
   "nbconvert_exporter": "python",
   "pygments_lexer": "ipython3",
   "version": "3.10.13"
  }
 },
 "nbformat": 4,
 "nbformat_minor": 5
}
