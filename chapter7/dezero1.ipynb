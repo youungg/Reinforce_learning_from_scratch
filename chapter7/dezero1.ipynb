{
 "cells": [
  {
   "cell_type": "markdown",
   "id": "e9fa20b5",
   "metadata": {},
   "source": [
    "# dezero\n",
    "\n",
    "dezero 변경 사항 :C:\\Users\\ljy25\\anaconda3\\Lib\\site-packages\\dezero 에 transforms.py에 거의 마지막 부분 int64변경사항 존재"
   ]
  },
  {
   "cell_type": "code",
   "execution_count": 7,
   "id": "2374f668",
   "metadata": {
    "scrolled": true
   },
   "outputs": [],
   "source": [
    "import numpy as np\n",
    "from dezero import Variable\n",
    "import dezero.functions as F"
   ]
  },
  {
   "cell_type": "code",
   "execution_count": 8,
   "id": "712a7a82",
   "metadata": {},
   "outputs": [
    {
     "name": "stdout",
     "output_type": "stream",
     "text": [
      "variable(32)\n",
      "variable([[19 22]\n",
      "          [43 50]])\n"
     ]
    }
   ],
   "source": [
    "# 벡터의 내적\n",
    "a = np.array([1, 2, 3])\n",
    "b = np.array([4, 5, 6])\n",
    "a, b = Variable(a), Variable(b)  # 생략 가능\n",
    "c = F.matmul(a, b)\n",
    "print(c)\n",
    "\n",
    "# 행렬의 곱\n",
    "a = np.array([[1, 2], [3, 4]])\n",
    "b = np.array([[5, 6], [7, 8]])\n",
    "c = F.matmul(a, b)\n",
    "print(c)"
   ]
  }
 ],
 "metadata": {
  "kernelspec": {
   "display_name": "Python 3 (ipykernel)",
   "language": "python",
   "name": "python3"
  },
  "language_info": {
   "codemirror_mode": {
    "name": "ipython",
    "version": 3
   },
   "file_extension": ".py",
   "mimetype": "text/x-python",
   "name": "python",
   "nbconvert_exporter": "python",
   "pygments_lexer": "ipython3",
   "version": "3.10.13"
  }
 },
 "nbformat": 4,
 "nbformat_minor": 5
}
