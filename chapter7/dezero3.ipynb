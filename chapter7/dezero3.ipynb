{
 "cells": [
  {
   "cell_type": "code",
   "execution_count": 1,
   "id": "ffa59a8c",
   "metadata": {},
   "outputs": [],
   "source": [
    "import numpy as np\n",
    "import matplotlib.pyplot as plt\n",
    "from dezero import Variable\n",
    "import dezero.functions as F"
   ]
  },
  {
   "cell_type": "code",
   "execution_count": 2,
   "id": "dff729e1",
   "metadata": {},
   "outputs": [],
   "source": [
    "# 토이 데이터셋\n",
    "np.random.seed(0)\n",
    "x = np.random.rand(100, 1)\n",
    "y = 5 + 2 * x + np.random.rand(100, 1)\n",
    "x, y = Variable(x), Variable(y)  # 생략 가능"
   ]
  },
  {
   "cell_type": "code",
   "execution_count": 3,
   "id": "0ee561fe",
   "metadata": {},
   "outputs": [],
   "source": [
    "# 매개변수 정의\n",
    "W = Variable(np.zeros((1, 1)))\n",
    "b = Variable(np.zeros(1))\n"
   ]
  },
  {
   "cell_type": "code",
   "execution_count": 4,
   "id": "d1ac30d8",
   "metadata": {},
   "outputs": [],
   "source": [
    "# 예측 함수\n",
    "def predict(x):\n",
    "    y = F.matmul(x, W) + b  # 행렬의 곱으로 여러 데이터 일괄 계산\n",
    "    return y\n"
   ]
  },
  {
   "cell_type": "code",
   "execution_count": 5,
   "id": "b2982b99",
   "metadata": {},
   "outputs": [],
   "source": [
    "# 평균 제곱 오차(식 7.2) 계산 함수\n",
    "def mean_squared_error(x0, x1):\n",
    "    diff = x0 - x1\n",
    "    return F.sum(diff ** 2) / len(diff)"
   ]
  },
  {
   "cell_type": "code",
   "execution_count": 6,
   "id": "a5cf722f",
   "metadata": {},
   "outputs": [],
   "source": [
    "# 경사 하강법으로 매개변수 갱신\n",
    "lr = 0.1\n",
    "iters = 100"
   ]
  },
  {
   "cell_type": "code",
   "execution_count": 7,
   "id": "73f109ad",
   "metadata": {},
   "outputs": [
    {
     "name": "stdout",
     "output_type": "stream",
     "text": [
      "42.296340129442335\n",
      "0.24915731977561134\n",
      "0.10078974954301652\n",
      "0.09461859803040694\n",
      "0.0902667138137311\n",
      "0.08694585483964615\n",
      "0.08441084206493275\n",
      "0.08247571022229121\n",
      "0.08099850454041051\n",
      "0.07987086218625004\n"
     ]
    }
   ],
   "source": [
    "for i in range(iters):\n",
    "    y_pred = predict(x)\n",
    "    loss = mean_squared_error(y, y_pred)\n",
    "    # 또는 loss = F.mean_squared_error(y, y_pred)\n",
    "\n",
    "    W.cleargrad()\n",
    "    b.cleargrad()\n",
    "    loss.backward()\n",
    "\n",
    "    W.data -= lr * W.grad.data\n",
    "    b.data -= lr * b.grad.data\n",
    "\n",
    "    if i % 10 == 0:  # 10회 반복마다 출력\n",
    "        print(loss.data)"
   ]
  },
  {
   "cell_type": "code",
   "execution_count": 8,
   "id": "264ce55b",
   "metadata": {},
   "outputs": [
    {
     "name": "stdout",
     "output_type": "stream",
     "text": [
      "====\n",
      "W = [[2.11807369]]\n",
      "b = [5.46608905]\n"
     ]
    }
   ],
   "source": [
    "print('====')\n",
    "print('W =', W.data)\n",
    "print('b =', b.data)"
   ]
  },
  {
   "cell_type": "code",
   "execution_count": 9,
   "id": "43f3fbb7",
   "metadata": {},
   "outputs": [
    {
     "data": {
      "image/png": "[encoded data removed]",
      "text/plain": [
       "<Figure size 640x480 with 1 Axes>"
      ]
     },
     "metadata": {},
     "output_type": "display_data"
    }
   ],
   "source": [
    "# [그림 7-9] 학습 후 모델\n",
    "plt.scatter(x.data, y.data, s=10)\n",
    "plt.xlabel('x')\n",
    "plt.ylabel('y')\n",
    "t = np.arange(0, 1, .01)[:, np.newaxis]\n",
    "y_pred = predict(t)\n",
    "plt.plot(t, y_pred.data, color='r')\n",
    "plt.show()"
   ]
  },
  {
   "cell_type": "code",
   "execution_count": null,
   "id": "93ca4ccd",
   "metadata": {},
   "outputs": [],
   "source": []
  }
 ],
 "metadata": {
  "kernelspec": {
   "display_name": "Python 3 (ipykernel)",
   "language": "python",
   "name": "python3"
  },
  "language_info": {
   "codemirror_mode": {
    "name": "ipython",
    "version": 3
   },
   "file_extension": ".py",
   "mimetype": "text/x-python",
   "name": "python",
   "nbconvert_exporter": "python",
   "pygments_lexer": "ipython3",
   "version": "3.10.13"
  }
 },
 "nbformat": 4,
 "nbformat_minor": 5
}
