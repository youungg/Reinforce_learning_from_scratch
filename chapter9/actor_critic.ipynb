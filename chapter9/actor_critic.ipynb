{
 "cells": [
  {
   "cell_type": "code",
   "execution_count": 1,
   "id": "b7126bb7",
   "metadata": {},
   "outputs": [],
   "source": [
    "import numpy as np\n",
    "import gym\n",
    "from dezero import Model\n",
    "from dezero import optimizers\n",
    "import dezero.functions as F\n",
    "import dezero.layers as L"
   ]
  },
  {
   "cell_type": "code",
   "execution_count": 2,
   "id": "7f10a61f",
   "metadata": {},
   "outputs": [],
   "source": [
    "class PolicyNet(Model):  # 정책 신경망\n",
    "    def __init__(self, action_size=2):\n",
    "        super().__init__()\n",
    "        self.l1 = L.Linear(128)\n",
    "        self.l2 = L.Linear(action_size)\n",
    "\n",
    "    def forward(self, x):\n",
    "        x = F.relu(self.l1(x))\n",
    "        x = self.l2(x)\n",
    "        x = F.softmax(x)  # 확률 출력\n",
    "        return x"
   ]
  },
  {
   "cell_type": "code",
   "execution_count": 3,
   "id": "e94b2e24",
   "metadata": {},
   "outputs": [],
   "source": [
    "class ValueNet(Model):  # 가치 함수 신경망\n",
    "    def __init__(self):\n",
    "        super().__init__()\n",
    "        self.l1 = L.Linear(128)\n",
    "        self.l2 = L.Linear(1)\n",
    "\n",
    "    def forward(self, x):\n",
    "        x = F.relu(self.l1(x))\n",
    "        x = self.l2(x)\n",
    "        return x"
   ]
  },
  {
   "cell_type": "code",
   "execution_count": 4,
   "id": "ef216f46",
   "metadata": {},
   "outputs": [],
   "source": [
    "class Agent:\n",
    "    def __init__(self):\n",
    "        self.gamma = 0.98\n",
    "        self.lr_pi = 0.0002\n",
    "        self.lr_v = 0.0005\n",
    "        self.action_size = 2\n",
    "\n",
    "        self.pi = PolicyNet()\n",
    "        self.v = ValueNet()\n",
    "        self.optimizer_pi = optimizers.Adam(self.lr_pi).setup(self.pi)\n",
    "        self.optimizer_v = optimizers.Adam(self.lr_v).setup(self.v)\n",
    "\n",
    "    def get_action(self, state):\n",
    "        state = state[np.newaxis, :]  # 배치 처리용 축 추가\n",
    "        probs = self.pi(state)\n",
    "        probs = probs[0]\n",
    "        action = np.random.choice(len(probs), p=probs.data)\n",
    "        return action, probs[action]  # 선택된 행동과 해당 행동의 확률 반환\n",
    "\n",
    "    def update(self, state, action_prob, reward, next_state, done):\n",
    "        # 배치 처리용 축 추가\n",
    "        state = state[np.newaxis, :]\n",
    "        next_state = next_state[np.newaxis, :]\n",
    "\n",
    "        # 가치 함수(self.v)의 손실 계산\n",
    "        target = reward + self.gamma * self.v(next_state) * (1 - done)  # TD 목표\n",
    "        target.unchain()\n",
    "        v = self.v(state)  # 현재 상태의 가치 함수\n",
    "        loss_v = F.mean_squared_error(v, target)  # 두 값의 평균 제곱 오차\n",
    "\n",
    "        # 정책(self.pi)의 손실 계산\n",
    "        delta = target - v\n",
    "        delta.unchain()\n",
    "        loss_pi = -F.log(action_prob) * delta\n",
    "\n",
    "        # 신경망 학습\n",
    "        self.v.cleargrads()\n",
    "        self.pi.cleargrads()\n",
    "        loss_v.backward()\n",
    "        loss_pi.backward()\n",
    "        self.optimizer_v.update()\n",
    "        self.optimizer_pi.update()"
   ]
  },
  {
   "cell_type": "code",
   "execution_count": 6,
   "id": "d16d2790",
   "metadata": {},
   "outputs": [],
   "source": [
    "episodes = 3000\n",
    "env = gym.make('CartPole-v0', render_mode='rgb_array')\n",
    "agent = Agent()\n",
    "reward_history = []\n"
   ]
  },
  {
   "cell_type": "code",
   "execution_count": 7,
   "id": "b733da49",
   "metadata": {},
   "outputs": [
    {
     "name": "stderr",
     "output_type": "stream",
     "text": [
      "C:\\Users\\ljy25\\anaconda3\\lib\\site-packages\\gym\\utils\\passive_env_checker.py:233: DeprecationWarning: `np.bool8` is a deprecated alias for `np.bool_`.  (Deprecated NumPy 1.24)\n",
      "  if not isinstance(terminated, (bool, np.bool8)):\n"
     ]
    },
    {
     "name": "stdout",
     "output_type": "stream",
     "text": [
      "episode :0, total reward : 16.0\n",
      "episode :100, total reward : 9.0\n",
      "episode :200, total reward : 12.0\n",
      "episode :300, total reward : 13.0\n",
      "episode :400, total reward : 51.0\n",
      "episode :500, total reward : 47.0\n",
      "episode :600, total reward : 200.0\n",
      "episode :700, total reward : 156.0\n",
      "episode :800, total reward : 200.0\n",
      "episode :900, total reward : 142.0\n",
      "episode :1000, total reward : 200.0\n",
      "episode :1100, total reward : 200.0\n",
      "episode :1200, total reward : 200.0\n",
      "episode :1300, total reward : 200.0\n",
      "episode :1400, total reward : 200.0\n",
      "episode :1500, total reward : 200.0\n",
      "episode :1600, total reward : 200.0\n",
      "episode :1700, total reward : 200.0\n",
      "episode :1800, total reward : 200.0\n",
      "episode :1900, total reward : 200.0\n",
      "episode :2000, total reward : 200.0\n",
      "episode :2100, total reward : 170.0\n",
      "episode :2200, total reward : 200.0\n",
      "episode :2300, total reward : 198.0\n",
      "episode :2400, total reward : 200.0\n",
      "episode :2500, total reward : 200.0\n",
      "episode :2600, total reward : 30.0\n",
      "episode :2700, total reward : 200.0\n",
      "episode :2800, total reward : 179.0\n",
      "episode :2900, total reward : 200.0\n"
     ]
    }
   ],
   "source": [
    "for episode in range(episodes):\n",
    "    state = env.reset()[0]\n",
    "    done = False\n",
    "    total_reward = 0\n",
    "\n",
    "    while not done:\n",
    "        action, prob = agent.get_action(state)\n",
    "        next_state, reward, terminated, truncated, info = env.step(action)\n",
    "        done = terminated | truncated\n",
    "\n",
    "        agent.update(state, prob, reward, next_state, done)\n",
    "\n",
    "        state = next_state\n",
    "        total_reward += reward\n",
    "\n",
    "    reward_history.append(total_reward)\n",
    "    if episode % 100 == 0:\n",
    "        print(\"episode :{}, total reward : {:.1f}\".format(episode, total_reward))\n"
   ]
  },
  {
   "cell_type": "code",
   "execution_count": 10,
   "id": "2cf6a67b",
   "metadata": {},
   "outputs": [
    {
     "data": {
      "image/png": "[encoded data removed]",
      "text/plain": [
       "<Figure size 640x480 with 1 Axes>"
      ]
     },
     "metadata": {},
     "output_type": "display_data"
    }
   ],
   "source": [
    "# [그림 9-11]의 왼쪽 그래프\n",
    "from utils import plot_total_reward\n",
    "plot_total_reward(reward_history)"
   ]
  },
  {
   "cell_type": "code",
   "execution_count": null,
   "id": "04a1ac88",
   "metadata": {},
   "outputs": [],
   "source": []
  }
 ],
 "metadata": {
  "kernelspec": {
   "display_name": "Python 3 (ipykernel)",
   "language": "python",
   "name": "python3"
  },
  "language_info": {
   "codemirror_mode": {
    "name": "ipython",
    "version": 3
   },
   "file_extension": ".py",
   "mimetype": "text/x-python",
   "name": "python",
   "nbconvert_exporter": "python",
   "pygments_lexer": "ipython3",
   "version": "3.10.13"
  }
 },
 "nbformat": 4,
 "nbformat_minor": 5
}
