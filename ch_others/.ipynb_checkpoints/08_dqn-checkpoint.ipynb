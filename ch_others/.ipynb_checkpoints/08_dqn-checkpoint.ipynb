{
 "cells": [
  {
   "cell_type": "markdown",
   "id": "0368b778",
   "metadata": {},
   "source": [
    "# SETUP\n"
   ]
  },
  {
   "cell_type": "code",
   "execution_count": 1,
   "id": "73d7e6da",
   "metadata": {},
   "outputs": [],
   "source": [
    "# !pip install gym[classic_control]\n",
    "# !pip install dezero"
   ]
  },
  {
   "cell_type": "markdown",
   "id": "5d949016",
   "metadata": {},
   "source": [
    "# gym_play.py"
   ]
  },
  {
   "cell_type": "code",
   "execution_count": 2,
   "id": "881dc5e0",
   "metadata": {},
   "outputs": [],
   "source": [
    "import numpy as np\n",
    "import gym"
   ]
  },
  {
   "cell_type": "code",
   "execution_count": 3,
   "id": "a7455827",
   "metadata": {},
   "outputs": [
    {
     "name": "stderr",
     "output_type": "stream",
     "text": [
      "C:\\Users\\ljy25\\anaconda3\\lib\\site-packages\\gym\\envs\\registration.py:555: UserWarning: \u001b[33mWARN: The environment CartPole-v0 is out of date. You should consider upgrading to version `v1`.\u001b[0m\n",
      "  logger.warn(\n"
     ]
    }
   ],
   "source": [
    "env = gym.make('CartPole-v0')\n",
    "state = env.reset()\n",
    "done = False"
   ]
  },
  {
   "cell_type": "code",
   "execution_count": 11,
   "id": "5c4489ff",
   "metadata": {},
   "outputs": [],
   "source": [
    "while not done:\n",
    "    #env.render()\n",
    "    action = np.random.choice([0, 1])\n",
    "    next_state, reward, terminated, truncated, info = env.step(action)\n",
    "    done = terminated | truncated \n",
    "    print('action:', action)\n",
    "#env.close()"
   ]
  },
  {
   "cell_type": "code",
   "execution_count": 8,
   "id": "61052a9f",
   "metadata": {},
   "outputs": [],
   "source": []
  },
  {
   "cell_type": "code",
   "execution_count": null,
   "id": "21389a7a",
   "metadata": {},
   "outputs": [],
   "source": []
  }
 ],
 "metadata": {
  "kernelspec": {
   "display_name": "Python 3 (ipykernel)",
   "language": "python",
   "name": "python3"
  },
  "language_info": {
   "codemirror_mode": {
    "name": "ipython",
    "version": 3
   },
   "file_extension": ".py",
   "mimetype": "text/x-python",
   "name": "python",
   "nbconvert_exporter": "python",
   "pygments_lexer": "ipython3",
   "version": "3.10.13"
  }
 },
 "nbformat": 4,
 "nbformat_minor": 5
}
